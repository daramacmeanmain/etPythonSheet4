{
 "cells": [
  {
   "cell_type": "code",
   "execution_count": 1,
   "metadata": {
    "collapsed": false
   },
   "outputs": [
    {
     "name": "stderr",
     "output_type": "stream",
     "text": [
      "Using TensorFlow backend.\n"
     ]
    }
   ],
   "source": [
    "import csv\n",
    "import numpy as np\n",
    "import keras as kr"
   ]
  },
  {
   "cell_type": "code",
   "execution_count": 2,
   "metadata": {
    "collapsed": true
   },
   "outputs": [],
   "source": [
    "iris = list(csv.reader(open('iris.csv')))[1:]\n",
    "inputs  = np.array(iris)[:,:4].astype(np.float)"
   ]
  },
  {
   "cell_type": "code",
   "execution_count": 3,
   "metadata": {
    "collapsed": true
   },
   "outputs": [],
   "source": [
    "outputs = np.array(iris)[:,4]\n",
    "outputs_vals, outputs_ints = np.unique(outputs, return_inverse=True)\n",
    "outputs_cats = kr.utils.to_categorical(outputs_ints)"
   ]
  },
  {
   "cell_type": "code",
   "execution_count": 4,
   "metadata": {
    "collapsed": true
   },
   "outputs": [],
   "source": [
    "inds = np.random.permutation(len(inputs))\n",
    "train_inds, test_inds = np.array_split(inds, 2)\n",
    "inputs_train, outputs_train = inputs[train_inds], outputs_cats[train_inds]\n",
    "inputs_test,  outputs_test  = inputs[test_inds],  outputs_cats[test_inds]"
   ]
  },
  {
   "cell_type": "code",
   "execution_count": 5,
   "metadata": {
    "collapsed": true
   },
   "outputs": [],
   "source": [
    "model = kr.models.Sequential()"
   ]
  },
  {
   "cell_type": "code",
   "execution_count": 6,
   "metadata": {
    "collapsed": true
   },
   "outputs": [],
   "source": [
    "model.add(kr.layers.Dense(16, input_shape=(4,)))\n",
    "model.add(kr.layers.Activation(\"sigmoid\"))\n",
    "model.add(kr.layers.Dense(3))\n",
    "model.add(kr.layers.Activation(\"softmax\"))"
   ]
  },
  {
   "cell_type": "code",
   "execution_count": 7,
   "metadata": {
    "collapsed": true
   },
   "outputs": [],
   "source": [
    "model.compile(optimizer=\"adam\", loss=\"categorical_crossentropy\", metrics=[\"accuracy\"])"
   ]
  },
  {
   "cell_type": "code",
   "execution_count": 8,
   "metadata": {
    "collapsed": false
   },
   "outputs": [
    {
     "name": "stdout",
     "output_type": "stream",
     "text": [
      "Epoch 1/100\n",
      "75/75 [==============================] - 0s 4ms/step - loss: 1.0867 - acc: 0.3467\n",
      "Epoch 2/100\n",
      "75/75 [==============================] - 0s 1ms/step - loss: 1.0162 - acc: 0.4133\n",
      "Epoch 3/100\n",
      "75/75 [==============================] - 0s 1ms/step - loss: 0.9725 - acc: 0.7067\n",
      "Epoch 4/100\n",
      "75/75 [==============================] - 0s 988us/step - loss: 0.9349 - acc: 0.7467\n",
      "Epoch 5/100\n",
      "75/75 [==============================] - 0s 989us/step - loss: 0.8948 - acc: 0.8667\n",
      "Epoch 6/100\n",
      "75/75 [==============================] - 0s 1ms/step - loss: 0.8559 - acc: 0.8400\n",
      "Epoch 7/100\n",
      "75/75 [==============================] - 0s 994us/step - loss: 0.8186 - acc: 0.6933\n",
      "Epoch 8/100\n",
      "75/75 [==============================] - 0s 987us/step - loss: 0.7764 - acc: 0.8800\n",
      "Epoch 9/100\n",
      "75/75 [==============================] - 0s 967us/step - loss: 0.7344 - acc: 0.8267\n",
      "Epoch 10/100\n",
      "75/75 [==============================] - 0s 987us/step - loss: 0.6961 - acc: 0.7333\n",
      "Epoch 11/100\n",
      "75/75 [==============================] - 0s 1ms/step - loss: 0.6627 - acc: 0.7467\n",
      "Epoch 12/100\n",
      "75/75 [==============================] - 0s 1ms/step - loss: 0.6284 - acc: 0.8800\n",
      "Epoch 13/100\n",
      "75/75 [==============================] - 0s 991us/step - loss: 0.6026 - acc: 0.9600\n",
      "Epoch 14/100\n",
      "75/75 [==============================] - 0s 1ms/step - loss: 0.5749 - acc: 0.8267\n",
      "Epoch 15/100\n",
      "75/75 [==============================] - 0s 1ms/step - loss: 0.5499 - acc: 0.9600\n",
      "Epoch 16/100\n",
      "75/75 [==============================] - 0s 987us/step - loss: 0.5287 - acc: 0.9333\n",
      "Epoch 17/100\n",
      "75/75 [==============================] - 0s 1ms/step - loss: 0.5097 - acc: 0.9467\n",
      "Epoch 18/100\n",
      "75/75 [==============================] - 0s 1ms/step - loss: 0.4936 - acc: 0.9867\n",
      "Epoch 19/100\n",
      "75/75 [==============================] - 0s 1ms/step - loss: 0.4821 - acc: 0.9733\n",
      "Epoch 20/100\n",
      "75/75 [==============================] - 0s 1ms/step - loss: 0.4637 - acc: 0.9733\n",
      "Epoch 21/100\n",
      "75/75 [==============================] - 0s 1ms/step - loss: 0.4579 - acc: 0.9867\n",
      "Epoch 22/100\n",
      "75/75 [==============================] - 0s 1ms/step - loss: 0.4417 - acc: 0.9867\n",
      "Epoch 23/100\n",
      "75/75 [==============================] - 0s 1ms/step - loss: 0.4333 - acc: 0.9867\n",
      "Epoch 24/100\n",
      "75/75 [==============================] - 0s 1ms/step - loss: 0.4220 - acc: 0.9733\n",
      "Epoch 25/100\n",
      "75/75 [==============================] - 0s 1ms/step - loss: 0.4108 - acc: 0.9867\n",
      "Epoch 26/100\n",
      "75/75 [==============================] - 0s 1ms/step - loss: 0.4059 - acc: 0.9867\n",
      "Epoch 27/100\n",
      "75/75 [==============================] - 0s 1ms/step - loss: 0.3957 - acc: 1.0000\n",
      "Epoch 28/100\n",
      "75/75 [==============================] - 0s 1ms/step - loss: 0.3850 - acc: 1.0000\n",
      "Epoch 29/100\n",
      "75/75 [==============================] - 0s 1ms/step - loss: 0.3787 - acc: 1.0000\n",
      "Epoch 30/100\n",
      "75/75 [==============================] - 0s 1ms/step - loss: 0.3719 - acc: 1.0000\n",
      "Epoch 31/100\n",
      "75/75 [==============================] - 0s 1ms/step - loss: 0.3630 - acc: 1.0000\n",
      "Epoch 32/100\n",
      "75/75 [==============================] - 0s 2ms/step - loss: 0.3546 - acc: 0.9867\n",
      "Epoch 33/100\n",
      "75/75 [==============================] - 0s 2ms/step - loss: 0.3457 - acc: 0.9867\n",
      "Epoch 34/100\n",
      "75/75 [==============================] - 0s 1ms/step - loss: 0.3385 - acc: 0.9867\n",
      "Epoch 35/100\n",
      "75/75 [==============================] - 0s 928us/step - loss: 0.3326 - acc: 1.0000\n",
      "Epoch 36/100\n",
      "75/75 [==============================] - 0s 870us/step - loss: 0.3247 - acc: 0.9867\n",
      "Epoch 37/100\n",
      "75/75 [==============================] - 0s 882us/step - loss: 0.3168 - acc: 1.0000\n",
      "Epoch 38/100\n",
      "75/75 [==============================] - 0s 867us/step - loss: 0.3103 - acc: 0.9867\n",
      "Epoch 39/100\n",
      "75/75 [==============================] - 0s 885us/step - loss: 0.3040 - acc: 1.0000\n",
      "Epoch 40/100\n",
      "75/75 [==============================] - 0s 874us/step - loss: 0.2987 - acc: 0.9867\n",
      "Epoch 41/100\n",
      "75/75 [==============================] - 0s 894us/step - loss: 0.2888 - acc: 1.0000\n",
      "Epoch 42/100\n",
      "75/75 [==============================] - 0s 981us/step - loss: 0.2824 - acc: 0.9867\n",
      "Epoch 43/100\n",
      "75/75 [==============================] - 0s 986us/step - loss: 0.2781 - acc: 1.0000\n",
      "Epoch 44/100\n",
      "75/75 [==============================] - 0s 1ms/step - loss: 0.2714 - acc: 1.0000\n",
      "Epoch 45/100\n",
      "75/75 [==============================] - 0s 1ms/step - loss: 0.2680 - acc: 0.9733\n",
      "Epoch 46/100\n",
      "75/75 [==============================] - 0s 1ms/step - loss: 0.2569 - acc: 0.9867\n",
      "Epoch 47/100\n",
      "75/75 [==============================] - 0s 1ms/step - loss: 0.2508 - acc: 0.9867\n",
      "Epoch 48/100\n",
      "75/75 [==============================] - 0s 1ms/step - loss: 0.2453 - acc: 1.0000\n",
      "Epoch 49/100\n",
      "75/75 [==============================] - 0s 1ms/step - loss: 0.2399 - acc: 0.9867\n",
      "Epoch 50/100\n",
      "75/75 [==============================] - 0s 1ms/step - loss: 0.2327 - acc: 1.0000\n",
      "Epoch 51/100\n",
      "75/75 [==============================] - 0s 1ms/step - loss: 0.2292 - acc: 1.0000\n",
      "Epoch 52/100\n",
      "75/75 [==============================] - 0s 1ms/step - loss: 0.2231 - acc: 0.9867\n",
      "Epoch 53/100\n",
      "75/75 [==============================] - 0s 1ms/step - loss: 0.2229 - acc: 1.0000\n",
      "Epoch 54/100\n",
      "75/75 [==============================] - 0s 1ms/step - loss: 0.2156 - acc: 0.9867\n",
      "Epoch 55/100\n",
      "75/75 [==============================] - 0s 1ms/step - loss: 0.2073 - acc: 1.0000\n",
      "Epoch 56/100\n",
      "75/75 [==============================] - 0s 1ms/step - loss: 0.2012 - acc: 0.9867\n",
      "Epoch 57/100\n",
      "75/75 [==============================] - 0s 1ms/step - loss: 0.1988 - acc: 1.0000\n",
      "Epoch 58/100\n",
      "75/75 [==============================] - 0s 974us/step - loss: 0.1946 - acc: 1.0000\n",
      "Epoch 59/100\n",
      "75/75 [==============================] - 0s 966us/step - loss: 0.1879 - acc: 1.0000\n",
      "Epoch 60/100\n",
      "75/75 [==============================] - 0s 933us/step - loss: 0.1870 - acc: 1.0000\n",
      "Epoch 61/100\n",
      "75/75 [==============================] - 0s 994us/step - loss: 0.1806 - acc: 0.9867\n",
      "Epoch 62/100\n",
      "75/75 [==============================] - 0s 1ms/step - loss: 0.1762 - acc: 0.9867\n",
      "Epoch 63/100\n",
      "75/75 [==============================] - 0s 1ms/step - loss: 0.1709 - acc: 1.0000\n",
      "Epoch 64/100\n",
      "75/75 [==============================] - 0s 1ms/step - loss: 0.1684 - acc: 0.9867\n",
      "Epoch 65/100\n",
      "75/75 [==============================] - 0s 1ms/step - loss: 0.1645 - acc: 1.0000\n",
      "Epoch 66/100\n",
      "75/75 [==============================] - 0s 1ms/step - loss: 0.1610 - acc: 0.9867\n",
      "Epoch 67/100\n",
      "75/75 [==============================] - 0s 1ms/step - loss: 0.1555 - acc: 0.9867\n",
      "Epoch 68/100\n",
      "75/75 [==============================] - 0s 947us/step - loss: 0.1523 - acc: 0.9867\n",
      "Epoch 69/100\n",
      "75/75 [==============================] - 0s 991us/step - loss: 0.1509 - acc: 1.0000\n",
      "Epoch 70/100\n",
      "75/75 [==============================] - 0s 944us/step - loss: 0.1475 - acc: 0.9867\n",
      "Epoch 71/100\n",
      "75/75 [==============================] - 0s 914us/step - loss: 0.1440 - acc: 1.0000\n",
      "Epoch 72/100\n",
      "75/75 [==============================] - 0s 894us/step - loss: 0.1413 - acc: 0.9867\n",
      "Epoch 73/100\n",
      "75/75 [==============================] - 0s 893us/step - loss: 0.1368 - acc: 1.0000\n",
      "Epoch 74/100\n",
      "75/75 [==============================] - 0s 894us/step - loss: 0.1333 - acc: 1.0000\n",
      "Epoch 75/100\n",
      "75/75 [==============================] - 0s 881us/step - loss: 0.1342 - acc: 1.0000\n",
      "Epoch 76/100\n",
      "75/75 [==============================] - 0s 916us/step - loss: 0.1270 - acc: 1.0000\n",
      "Epoch 77/100\n",
      "75/75 [==============================] - 0s 914us/step - loss: 0.1281 - acc: 0.9867\n",
      "Epoch 78/100\n",
      "75/75 [==============================] - 0s 894us/step - loss: 0.1220 - acc: 0.9867\n",
      "Epoch 79/100\n",
      "75/75 [==============================] - 0s 906us/step - loss: 0.1254 - acc: 0.9867\n",
      "Epoch 80/100\n",
      "75/75 [==============================] - 0s 894us/step - loss: 0.1213 - acc: 1.0000\n",
      "Epoch 81/100\n",
      "75/75 [==============================] - 0s 907us/step - loss: 0.1187 - acc: 0.9867\n",
      "Epoch 82/100\n",
      "75/75 [==============================] - 0s 902us/step - loss: 0.1138 - acc: 0.9867\n",
      "Epoch 83/100\n",
      "75/75 [==============================] - 0s 914us/step - loss: 0.1158 - acc: 1.0000\n",
      "Epoch 84/100\n",
      "75/75 [==============================] - 0s 894us/step - loss: 0.1113 - acc: 1.0000\n",
      "Epoch 85/100\n",
      "75/75 [==============================] - 0s 905us/step - loss: 0.1085 - acc: 0.9867\n",
      "Epoch 86/100\n",
      "75/75 [==============================] - 0s 916us/step - loss: 0.1060 - acc: 1.0000\n",
      "Epoch 87/100\n",
      "75/75 [==============================] - 0s 914us/step - loss: 0.1046 - acc: 0.9867\n",
      "Epoch 88/100\n",
      "75/75 [==============================] - 0s 934us/step - loss: 0.1018 - acc: 0.9867\n",
      "Epoch 89/100\n",
      "75/75 [==============================] - 0s 913us/step - loss: 0.1028 - acc: 0.9867\n",
      "Epoch 90/100\n",
      "75/75 [==============================] - 0s 921us/step - loss: 0.0999 - acc: 1.0000\n",
      "Epoch 91/100\n",
      "75/75 [==============================] - 0s 954us/step - loss: 0.0976 - acc: 0.9867\n",
      "Epoch 92/100\n",
      "75/75 [==============================] - 0s 1ms/step - loss: 0.0968 - acc: 0.9867\n",
      "Epoch 93/100\n",
      "75/75 [==============================] - 0s 917us/step - loss: 0.0948 - acc: 0.9867\n",
      "Epoch 94/100\n",
      "75/75 [==============================] - 0s 947us/step - loss: 0.0968 - acc: 1.0000\n",
      "Epoch 95/100\n",
      "75/75 [==============================] - 0s 964us/step - loss: 0.0904 - acc: 1.0000\n",
      "Epoch 96/100\n",
      "75/75 [==============================] - 0s 934us/step - loss: 0.0918 - acc: 0.9867\n",
      "Epoch 97/100\n",
      "75/75 [==============================] - 0s 960us/step - loss: 0.0908 - acc: 1.0000\n",
      "Epoch 98/100\n",
      "75/75 [==============================] - 0s 961us/step - loss: 0.0872 - acc: 0.9867\n",
      "Epoch 99/100\n",
      "75/75 [==============================] - 0s 921us/step - loss: 0.0837 - acc: 1.0000\n",
      "Epoch 100/100\n",
      "75/75 [==============================] - 0s 956us/step - loss: 0.0828 - acc: 0.9867\n",
      "75/75 [==============================] - 0s 173us/step\n",
      "\n",
      "\n",
      "Loss: 0.1253\tAccuracy: 0.9733\n",
      "Actual: [0 0 1]\tEstimated: [0 0 1]\n",
      "That means it's a virginica\n"
     ]
    }
   ],
   "source": [
    "model.fit(inputs_train, outputs_train, epochs=100, batch_size=1, verbose=1)\n",
    "loss, accuracy = model.evaluate(inputs_test, outputs_test, verbose=1)\n",
    "print(\"\\n\\nLoss: %6.4f\\tAccuracy: %6.4f\" % (loss, accuracy))\n",
    "prediction = np.around(model.predict(np.expand_dims(inputs_test[0], axis=0))).astype(np.int)[0]\n",
    "print(\"Actual: %s\\tEstimated: %s\" % (outputs_test[0].astype(np.int), prediction))\n",
    "print(\"That means it's a %s\" % outputs_vals[prediction.astype(np.bool)][0])\n",
    "model.save(\"iris_nn.h5\")"
   ]
  },
  {
   "cell_type": "code",
   "execution_count": null,
   "metadata": {
    "collapsed": false
   },
   "outputs": [],
   "source": []
  }
 ],
 "metadata": {
  "anaconda-cloud": {},
  "kernelspec": {
   "display_name": "Python [default]",
   "language": "python",
   "name": "python3"
  },
  "language_info": {
   "codemirror_mode": {
    "name": "ipython",
    "version": 3
   },
   "file_extension": ".py",
   "mimetype": "text/x-python",
   "name": "python",
   "nbconvert_exporter": "python",
   "pygments_lexer": "ipython3",
   "version": "3.5.2"
  }
 },
 "nbformat": 4,
 "nbformat_minor": 1
}
